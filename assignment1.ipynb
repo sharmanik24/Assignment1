{
 "cells": [
  {
   "cell_type": "code",
   "execution_count": null,
   "id": "d346ec71-0c22-4aa7-831d-adde74914ea5",
   "metadata": {},
   "outputs": [],
   "source": [
    "Q16. Write a code that gives following as an output.\n",
    "iNeuroniNeuroniNeuroniNeuron\n"
   ]
  },
  {
   "cell_type": "code",
   "execution_count": 1,
   "id": "9750622a-1820-4b6a-9390-2cacfba9d846",
   "metadata": {},
   "outputs": [
    {
     "name": "stdout",
     "output_type": "stream",
     "text": [
      "iNeuroniNeuroniNeuroniNeuron\n"
     ]
    }
   ],
   "source": [
    "print(\"iNeuron\"*4)\n"
   ]
  },
  {
   "cell_type": "code",
   "execution_count": null,
   "id": "8fbfe2a5-b363-42ef-bcad-a07e841a79a6",
   "metadata": {},
   "outputs": [],
   "source": [
    "Q17. Write a code to take a number as an input from the user and check if the number is odd or even.\n"
   ]
  },
  {
   "cell_type": "code",
   "execution_count": 2,
   "id": "95b268d3-4045-410f-8b9b-3d29c5a9d736",
   "metadata": {},
   "outputs": [
    {
     "name": "stdin",
     "output_type": "stream",
     "text": [
      "enter the number:  54\n"
     ]
    },
    {
     "name": "stdout",
     "output_type": "stream",
     "text": [
      "Number entered is an even number\n"
     ]
    }
   ],
   "source": [
    "num=int(input(\"enter the number: \"))\n",
    "if num%2==0:\n",
    "    print(\"Number entered is an even number\")\n",
    "else:\n",
    "    print(\"Number entered is an odd number\")"
   ]
  },
  {
   "cell_type": "code",
   "execution_count": null,
   "id": "ce1ee204-fefd-497e-b09e-f3d4c308e36a",
   "metadata": {},
   "outputs": [],
   "source": [
    "Q22. Write a code to take the age of person as an input and if age >= 18 display \"I can vote\". If age is < 18 display \"I can't vote\"."
   ]
  },
  {
   "cell_type": "code",
   "execution_count": 3,
   "id": "c2374deb-e4c5-45d5-8b45-38fa3d348dc1",
   "metadata": {},
   "outputs": [
    {
     "name": "stdin",
     "output_type": "stream",
     "text": [
      "Please enter your age:  34\n"
     ]
    },
    {
     "name": "stdout",
     "output_type": "stream",
     "text": [
      "I can vote\n"
     ]
    }
   ],
   "source": [
    "age = int(input(\"Please enter your age: \"))\n",
    "if age>=18:\n",
    "    print(\"I can vote\")\n",
    "else:\n",
    "    print(\"I can't vote\")"
   ]
  },
  {
   "cell_type": "code",
   "execution_count": null,
   "id": "6bbcdac6-c2ea-4d98-a472-5a509d7936cd",
   "metadata": {},
   "outputs": [],
   "source": [
    "Q23. Write a code that displays the sum of all the even numbers from the given list.\n",
    "\n",
    "numbers = [12, 75, 150, 180, 145, 525, 50]"
   ]
  },
  {
   "cell_type": "code",
   "execution_count": 4,
   "id": "163ee2a2-c37c-4860-9345-7035fe75caa6",
   "metadata": {},
   "outputs": [
    {
     "name": "stdout",
     "output_type": "stream",
     "text": [
      "392\n"
     ]
    }
   ],
   "source": [
    "numbers = [12, 75, 150, 180, 145, 525, 50]\n",
    "a=0\n",
    "for i in numbers:\n",
    "    if i%2==0:\n",
    "        a=a+i\n",
    "print(a)"
   ]
  },
  {
   "cell_type": "code",
   "execution_count": null,
   "id": "365f1258-dcfc-4837-b7bc-3d67d889bd17",
   "metadata": {},
   "outputs": [],
   "source": [
    "Q24. Write a code to take 3 numbers as an input from the user and display the greatest no as output."
   ]
  },
  {
   "cell_type": "code",
   "execution_count": 5,
   "id": "32c96d43-505f-4b5c-85c2-d3acdf73bfbd",
   "metadata": {},
   "outputs": [
    {
     "name": "stdin",
     "output_type": "stream",
     "text": [
      "enter first number:  56\n",
      "enter second number:  65\n",
      "enter third number:  99\n"
     ]
    },
    {
     "name": "stdout",
     "output_type": "stream",
     "text": [
      "c is greatest\n"
     ]
    }
   ],
   "source": [
    "a=int(input(\"enter first number: \"))\n",
    "b=int(input(\"enter second number: \"))\n",
    "c=int(input(\"enter third number: \"))\n",
    "if a>b and a>c:\n",
    "    print(\"a is greatest\")\n",
    "elif b>a and b>c:\n",
    "    print(\"b is greatest\")\n",
    "else:\n",
    "    print(\"c is greatest\")"
   ]
  },
  {
   "cell_type": "code",
   "execution_count": null,
   "id": "83222aaa-f12a-4bc1-9336-deb84d37e8d5",
   "metadata": {},
   "outputs": [],
   "source": [
    "Q25. Write a program to display only those numbers from a list that satisfy the following conditions\n",
    "\n",
    "- The number must be divisible by five\n",
    "\n",
    "- If the number is greater than 150, then skip it and move to the next number\n",
    "\n",
    "- If the number is greater than 500, then stop the loop\n",
    "```\n",
    "numbers = [12, 75, 150, 180, 145, 525, 50]"
   ]
  },
  {
   "cell_type": "code",
   "execution_count": 6,
   "id": "dcbfa91d-a1b0-4ad8-b782-523243237ba0",
   "metadata": {},
   "outputs": [
    {
     "name": "stdout",
     "output_type": "stream",
     "text": [
      "75\n",
      "150\n",
      "145\n",
      "50\n"
     ]
    }
   ],
   "source": [
    "numbers = [12, 75, 150, 180, 145, 525, 50]\n",
    "for i in numbers:\n",
    "    if i > 150:\n",
    "        continue\n",
    "    if i%5==0:\n",
    "         print(i)\n",
    "\n",
    "    if i>500:\n",
    "      break\n"
   ]
  },
  {
   "cell_type": "code",
   "execution_count": null,
   "id": "cdd28f3b-26d9-401a-be90-f11c3ff16a81",
   "metadata": {},
   "outputs": [],
   "source": []
  }
 ],
 "metadata": {
  "kernelspec": {
   "display_name": "Python 3 (ipykernel)",
   "language": "python",
   "name": "python3"
  },
  "language_info": {
   "codemirror_mode": {
    "name": "ipython",
    "version": 3
   },
   "file_extension": ".py",
   "mimetype": "text/x-python",
   "name": "python",
   "nbconvert_exporter": "python",
   "pygments_lexer": "ipython3",
   "version": "3.10.6"
  }
 },
 "nbformat": 4,
 "nbformat_minor": 5
}
